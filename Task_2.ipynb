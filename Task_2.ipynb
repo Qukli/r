{
 "cells": [
  {
   "cell_type": "markdown",
   "id": "f4206d2d-54f8-4d09-8fd1-5911736a1508",
   "metadata": {},
   "source": [
    "В первом ящике находится 8 мячей, из которых 5 - белые. Во втором ящике - 12 мячей, из которых 5 белых. Из первого ящика вытаскивают случайным образом два мяча, из второго - 4. Какова вероятность того, что 3 мяча белые?"
   ]
  },
  {
   "cell_type": "code",
   "execution_count": 1,
   "id": "2e30af88-f0ed-4c75-8f40-2b2c299895f2",
   "metadata": {},
   "outputs": [],
   "source": [
    "from math import comb"
   ]
  },
  {
   "cell_type": "code",
   "execution_count": 2,
   "id": "57e0e034-fc06-424c-b983-7b7ec29ca6d9",
   "metadata": {},
   "outputs": [],
   "source": [
    "# Функция для вычисления вероятности вытаскивания определенного количества белых мячей из каждого ящика\n",
    "def probability_of_white_balls(box1_white, box1_total, box2_white, box2_total, draws):\n",
    "    # Вероятность вытаскивания белых мячей из первого ящика\n",
    "    prob_box1_white = comb(box1_white, draws) / comb(box1_total, draws)\n",
    "    # Вероятность вытаскивания белых мячей из второго ящика\n",
    "    prob_box2_white = comb(box2_white, draws) * comb(box2_total - box2_white, 4 - draws) / comb(box2_total, 4)\n",
    "    return prob_box1_white * prob_box2_white"
   ]
  },
  {
   "cell_type": "code",
   "execution_count": 3,
   "id": "e9dbd5c7-b6d1-4e3f-a6e6-5dd5368ce02a",
   "metadata": {},
   "outputs": [],
   "source": [
    "# Вероятность вытаскивания 3 белых мячей (2 из первого ящика, 1 из второго или 1 из первого ящика, 2 из второго)\n",
    "prob_3_white = probability_of_white_balls(5, 8, 5, 12, 2) + probability_of_white_balls(5, 8, 5, 12, 1)\n",
    "prob_3_white = round(prob_3_white, 2)\n"
   ]
  },
  {
   "cell_type": "code",
   "execution_count": 4,
   "id": "e0ad4e0b-6c83-4ce4-bb35-1426da5aba94",
   "metadata": {},
   "outputs": [
    {
     "name": "stdout",
     "output_type": "stream",
     "text": [
      "Вероятность вытаскивания 3 белых мячей: 0.37\n"
     ]
    }
   ],
   "source": [
    "print(\"Вероятность вытаскивания 3 белых мячей:\", prob_3_white)"
   ]
  },
  {
   "cell_type": "code",
   "execution_count": null,
   "id": "4ef6a1dd-db92-4698-a970-4c4ccd035b4a",
   "metadata": {},
   "outputs": [],
   "source": []
  }
 ],
 "metadata": {
  "kernelspec": {
   "display_name": "Python 3 (ipykernel)",
   "language": "python",
   "name": "python3"
  },
  "language_info": {
   "codemirror_mode": {
    "name": "ipython",
    "version": 3
   },
   "file_extension": ".py",
   "mimetype": "text/x-python",
   "name": "python",
   "nbconvert_exporter": "python",
   "pygments_lexer": "ipython3",
   "version": "3.10.9"
  }
 },
 "nbformat": 4,
 "nbformat_minor": 5
}
