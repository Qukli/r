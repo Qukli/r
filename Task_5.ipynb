{
 "cells": [
  {
   "cell_type": "markdown",
   "id": "8b1e4f94-2eb1-4ab2-9968-af15458cdecf",
   "metadata": {},
   "source": [
    "Устройство состоит из трех деталей. Для первой детали вероятность выйти из строя в первый месяц равна 0.1, для второй - 0.2, для третьей - 0.25. Какова вероятность того, что в первый месяц выйдут из строя: а). все детали б). только две детали в). хотя бы одна деталь г). от одной до двух деталей?"
   ]
  },
  {
   "cell_type": "code",
   "execution_count": 1,
   "id": "987d16f1-970b-424f-9319-35003b564da2",
   "metadata": {},
   "outputs": [],
   "source": [
    "# Вероятности выхода из строя каждой детали\n",
    "p1 = 0.1  # для первой детали\n",
    "p2 = 0.2  # для второй детали\n",
    "p3 = 0.25  # для третьей детали"
   ]
  },
  {
   "cell_type": "code",
   "execution_count": 2,
   "id": "6d967c63-0517-483e-a665-7640f2f90f29",
   "metadata": {},
   "outputs": [],
   "source": [
    "# Вероятность того, что все детали выйдут из строя\n",
    "p_all = p1 * p2 * p3"
   ]
  },
  {
   "cell_type": "code",
   "execution_count": 3,
   "id": "403b54b3-36ac-4733-a169-d7e75ace5330",
   "metadata": {},
   "outputs": [],
   "source": [
    "# Вероятность того, что только две детали выйдут из строя\n",
    "p_only_two = (p1 * p2 * (1 - p3)) + (p1 * (1 - p2) * p3) + ((1 - p1) * p2 * p3)"
   ]
  },
  {
   "cell_type": "code",
   "execution_count": 4,
   "id": "263029b2-1ff5-4ba8-9093-af81ed1da390",
   "metadata": {},
   "outputs": [],
   "source": [
    "# Вероятность того, что хотя бы одна деталь выйдет из строя\n",
    "p_at_least_one = 1 - (1 - p1) * (1 - p2) * (1 - p3)"
   ]
  },
  {
   "cell_type": "code",
   "execution_count": 5,
   "id": "b1b9f221-5fc6-4731-9030-ab3430a16805",
   "metadata": {},
   "outputs": [],
   "source": [
    "# Вероятность того, что выйдет из строя от одной до двух деталей\n",
    "p_one_or_two = p_at_least_one - p_all"
   ]
  },
  {
   "cell_type": "code",
   "execution_count": 6,
   "id": "2a77f7e0-4500-42cc-b75c-5c96767a6c6a",
   "metadata": {},
   "outputs": [
    {
     "name": "stdout",
     "output_type": "stream",
     "text": [
      "Вероятность, что в первый месяц выйдут из строя:\n",
      "а). все детали: 0.005000000000000001\n",
      "б). только две детали: 0.08000000000000002\n",
      "в). хотя бы одна деталь: 0.45999999999999996\n",
      "г). от одной до двух деталей: 0.45499999999999996\n"
     ]
    }
   ],
   "source": [
    "# Вывод результатов\n",
    "print(\"Вероятность, что в первый месяц выйдут из строя:\")\n",
    "print(\"а). все детали:\", p_all)\n",
    "print(\"б). только две детали:\", p_only_two)\n",
    "print(\"в). хотя бы одна деталь:\", p_at_least_one)\n",
    "print(\"г). от одной до двух деталей:\", p_one_or_two)"
   ]
  }
 ],
 "metadata": {
  "kernelspec": {
   "display_name": "Python 3 (ipykernel)",
   "language": "python",
   "name": "python3"
  },
  "language_info": {
   "codemirror_mode": {
    "name": "ipython",
    "version": 3
   },
   "file_extension": ".py",
   "mimetype": "text/x-python",
   "name": "python",
   "nbconvert_exporter": "python",
   "pygments_lexer": "ipython3",
   "version": "3.10.9"
  }
 },
 "nbformat": 4,
 "nbformat_minor": 5
}
