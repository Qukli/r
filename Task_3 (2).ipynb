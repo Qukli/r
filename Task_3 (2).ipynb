{
 "cells": [
  {
   "cell_type": "markdown",
   "id": "31e0330b-3e09-4178-a9ee-f50365402be6",
   "metadata": {},
   "source": [
    "На соревновании по биатлону один из трех спортсменов стреляет и попадает в мишень. Вероятность попадания для первого спортсмена равна 0.9, для второго — 0.8, для третьего — 0.6. Найти вероятность того, что выстрел произведен:"
   ]
  },
  {
   "cell_type": "code",
   "execution_count": 1,
   "id": "6c71aa68-bb6a-49bc-b884-e40afd7de212",
   "metadata": {},
   "outputs": [
    {
     "name": "stdout",
     "output_type": "stream",
     "text": [
      "Вероятность того, что цель поражена P(A) = 0.7667\n"
     ]
    }
   ],
   "source": [
    "PBA = 1/3\n",
    "PB = PBA * 0.9 + PBA * 0.8 + PBA * 0.6\n",
    "print(f'Вероятность того, что цель поражена P(A) = {round(PB, 4)}')"
   ]
  },
  {
   "cell_type": "code",
   "execution_count": 3,
   "id": "d1249891-4512-4771-85cc-de5b7aa990a7",
   "metadata": {},
   "outputs": [
    {
     "name": "stdout",
     "output_type": "stream",
     "text": [
      "Вероятность того, что выстрел произвёл первый спортсмен: PAB1 = 0.3913 = 39.13%;\n",
      "Вероятность того, что выстрел произвёл второй спортсмен: PAB1 = 0.3478 = 34.78%;\n",
      "Вероятность того, что выстрел произвёл третий спортсмен: PAB1 = 0.2609 = 26.09%.\n"
     ]
    }
   ],
   "source": [
    "PAB1 = PBA * 0.9 / PB\n",
    "PAB2 = PBA * 0.8 / PB\n",
    "PAB3 = PBA * 0.6 / PB\n",
    "print(f'Вероятность того, что выстрел произвёл первый спортсмен: PAB1 = {round(PAB1, 4)} = {round(PAB1 * 100, 2)}%;\\n'\n",
    "      f'Вероятность того, что выстрел произвёл второй спортсмен: PAB1 = {round(PAB2, 4)} = {round(PAB2 * 100, 2)}%;\\n'\n",
    "      f'Вероятность того, что выстрел произвёл третий спортсмен: PAB1 = {round(PAB3, 4)} = {round(PAB3 * 100, 2)}%.')"
   ]
  }
 ],
 "metadata": {
  "kernelspec": {
   "display_name": "Python 3 (ipykernel)",
   "language": "python",
   "name": "python3"
  },
  "language_info": {
   "codemirror_mode": {
    "name": "ipython",
    "version": 3
   },
   "file_extension": ".py",
   "mimetype": "text/x-python",
   "name": "python",
   "nbconvert_exporter": "python",
   "pygments_lexer": "ipython3",
   "version": "3.10.9"
  }
 },
 "nbformat": 4,
 "nbformat_minor": 5
}
